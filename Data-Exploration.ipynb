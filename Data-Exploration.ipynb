{
 "cells": [
  {
   "cell_type": "code",
   "execution_count": 1,
   "metadata": {},
   "outputs": [],
   "source": [
    "import tensorflow as tf\n",
    "import numpy as np"
   ]
  },
  {
   "cell_type": "code",
   "execution_count": 2,
   "metadata": {},
   "outputs": [
    {
     "data": {
      "text/plain": [
       "[name: \"/device:CPU:0\"\n",
       " device_type: \"CPU\"\n",
       " memory_limit: 268435456\n",
       " locality {\n",
       " }\n",
       " incarnation: 16775063959770758844, name: \"/device:XLA_CPU:0\"\n",
       " device_type: \"XLA_CPU\"\n",
       " memory_limit: 17179869184\n",
       " locality {\n",
       " }\n",
       " incarnation: 13736372131608793101\n",
       " physical_device_desc: \"device: XLA_CPU device\", name: \"/device:GPU:0\"\n",
       " device_type: \"GPU\"\n",
       " memory_limit: 1663631360\n",
       " locality {\n",
       "   bus_id: 1\n",
       "   links {\n",
       "   }\n",
       " }\n",
       " incarnation: 4662723902775003000\n",
       " physical_device_desc: \"device: 0, name: GeForce GTX 1060 3GB, pci bus id: 0000:01:00.0, compute capability: 6.1\", name: \"/device:XLA_GPU:0\"\n",
       " device_type: \"XLA_GPU\"\n",
       " memory_limit: 17179869184\n",
       " locality {\n",
       " }\n",
       " incarnation: 13490201462425810399\n",
       " physical_device_desc: \"device: XLA_GPU device\"]"
      ]
     },
     "execution_count": 2,
     "metadata": {},
     "output_type": "execute_result"
    }
   ],
   "source": [
    "from tensorflow.python.client import device_lib\n",
    "device_lib.list_local_devices()"
   ]
  },
  {
   "cell_type": "code",
   "execution_count": 3,
   "metadata": {},
   "outputs": [],
   "source": [
    "def unpickle(file):\n",
    "    import pickle\n",
    "    with open(file, 'rb') as fo:\n",
    "        dict = pickle.load(fo, encoding='bytes')\n",
    "    return dict"
   ]
  },
  {
   "cell_type": "code",
   "execution_count": 4,
   "metadata": {},
   "outputs": [],
   "source": [
    "def load_all_cifar_data():\n",
    "    folder_path = 'cifar-10-python/cifar-10-batches-py'\n",
    "    data = []\n",
    "    labels = []\n",
    "    for i in range(1,6):\n",
    "        batch = unpickle(f'{folder_path}/data_batch_{i}')\n",
    "        data.append(batch[b'data'])\n",
    "        labels.append(batch[b'labels'])\n",
    "    \n",
    "    return np.concatenate(tuple(data), axis=0), np.concatenate(tuple(labels), axis=0)"
   ]
  },
  {
   "cell_type": "code",
   "execution_count": 5,
   "metadata": {},
   "outputs": [],
   "source": [
    "data, labels = load_all_cifar_data()"
   ]
  },
  {
   "cell_type": "code",
   "execution_count": 6,
   "metadata": {},
   "outputs": [
    {
     "name": "stdout",
     "output_type": "stream",
     "text": [
      "(50000, 3072)\n",
      "(50000, 10)\n"
     ]
    }
   ],
   "source": [
    "a = np.zeros((50000,10))\n",
    "a[np.arange(50000), labels] = 1\n",
    "\n",
    "labels = a\n",
    "print(data.shape)\n",
    "print(labels.shape)"
   ]
  },
  {
   "cell_type": "code",
   "execution_count": 7,
   "metadata": {},
   "outputs": [
    {
     "name": "stderr",
     "output_type": "stream",
     "text": [
      "WARNING: Logging before flag parsing goes to stderr.\n",
      "W0921 01:39:01.362526 140618519365440 deprecation.py:506] From /home/nagianek/anaconda3/envs/ml-sandbox/lib/python3.7/site-packages/tensorflow/python/ops/init_ops.py:1251: calling VarianceScaling.__init__ (from tensorflow.python.ops.init_ops) with dtype is deprecated and will be removed in a future version.\n",
      "Instructions for updating:\n",
      "Call initializer instance with the dtype argument instead of passing it to the constructor\n"
     ]
    }
   ],
   "source": [
    "model = tf.keras.Sequential()\n",
    "from tensorflow.keras.layers import Dense\n",
    "model.add(Dense(units=1024, activation='relu', input_dim=3072))\n",
    "model.add(Dense(units=512, activation='relu'))\n",
    "model.add(Dense(units=256, activation='relu'))\n",
    "model.add(Dense(units=10, activation='softmax'))"
   ]
  },
  {
   "cell_type": "code",
   "execution_count": 8,
   "metadata": {},
   "outputs": [
    {
     "name": "stdout",
     "output_type": "stream",
     "text": [
      "Model: \"sequential\"\n",
      "_________________________________________________________________\n",
      "Layer (type)                 Output Shape              Param #   \n",
      "=================================================================\n",
      "dense (Dense)                (None, 1024)              3146752   \n",
      "_________________________________________________________________\n",
      "dense_1 (Dense)              (None, 512)               524800    \n",
      "_________________________________________________________________\n",
      "dense_2 (Dense)              (None, 256)               131328    \n",
      "_________________________________________________________________\n",
      "dense_3 (Dense)              (None, 10)                2570      \n",
      "=================================================================\n",
      "Total params: 3,805,450\n",
      "Trainable params: 3,805,450\n",
      "Non-trainable params: 0\n",
      "_________________________________________________________________\n"
     ]
    }
   ],
   "source": [
    "from tensorflow.keras.optimizers import Adam\n",
    "\n",
    "model.compile(loss='categorical_crossentropy',\n",
    "              optimizer=Adam(lr=0.001),\n",
    "              metrics=['accuracy'])\n",
    "model.summary()"
   ]
  },
  {
   "cell_type": "code",
   "execution_count": 9,
   "metadata": {},
   "outputs": [
    {
     "name": "stdout",
     "output_type": "stream",
     "text": [
      "Train on 37500 samples, validate on 12500 samples\n",
      "Epoch 1/15\n",
      "37500/37500 [==============================] - 3s 77us/sample - loss: 27.6193 - acc: 0.2297 - val_loss: 2.3455 - val_acc: 0.2722\n",
      "Epoch 2/15\n",
      "37500/37500 [==============================] - 3s 72us/sample - loss: 2.1077 - acc: 0.3050 - val_loss: 2.2217 - val_acc: 0.2635\n",
      "Epoch 3/15\n",
      "37500/37500 [==============================] - 3s 70us/sample - loss: 1.9577 - acc: 0.3261 - val_loss: 1.8609 - val_acc: 0.3395\n",
      "Epoch 4/15\n",
      "37500/37500 [==============================] - 3s 67us/sample - loss: 1.8517 - acc: 0.3491 - val_loss: 1.9022 - val_acc: 0.3398\n",
      "Epoch 5/15\n",
      "37500/37500 [==============================] - 3s 68us/sample - loss: 1.8343 - acc: 0.3541 - val_loss: 1.8292 - val_acc: 0.3430\n",
      "Epoch 6/15\n",
      "37500/37500 [==============================] - 3s 75us/sample - loss: 1.8068 - acc: 0.3646 - val_loss: 1.8195 - val_acc: 0.3444\n",
      "Epoch 7/15\n",
      "37500/37500 [==============================] - 3s 67us/sample - loss: 1.7767 - acc: 0.3663 - val_loss: 1.8017 - val_acc: 0.3754\n",
      "Epoch 8/15\n",
      "37500/37500 [==============================] - 3s 71us/sample - loss: 1.7467 - acc: 0.3789 - val_loss: 1.7592 - val_acc: 0.3855\n",
      "Epoch 9/15\n",
      "37500/37500 [==============================] - 3s 70us/sample - loss: 1.7693 - acc: 0.3677 - val_loss: 1.8287 - val_acc: 0.3739\n",
      "Epoch 10/15\n",
      "37500/37500 [==============================] - 3s 72us/sample - loss: 1.7395 - acc: 0.3779 - val_loss: 1.8193 - val_acc: 0.3486\n",
      "Epoch 11/15\n",
      "37500/37500 [==============================] - 3s 68us/sample - loss: 1.6991 - acc: 0.3928 - val_loss: 1.7549 - val_acc: 0.3806\n",
      "Epoch 12/15\n",
      "37500/37500 [==============================] - 3s 70us/sample - loss: 1.6753 - acc: 0.3997 - val_loss: 1.7184 - val_acc: 0.3837\n",
      "Epoch 13/15\n",
      "37500/37500 [==============================] - 3s 70us/sample - loss: 1.6563 - acc: 0.4074 - val_loss: 1.6682 - val_acc: 0.4085\n",
      "Epoch 14/15\n",
      "37500/37500 [==============================] - 3s 71us/sample - loss: 1.6584 - acc: 0.4087 - val_loss: 1.7077 - val_acc: 0.3953\n",
      "Epoch 15/15\n",
      "37500/37500 [==============================] - 3s 67us/sample - loss: 1.6631 - acc: 0.4082 - val_loss: 1.7000 - val_acc: 0.3935\n"
     ]
    }
   ],
   "source": [
    "history = model.fit(data, labels, validation_split=0.25, epochs=15, batch_size=64)"
   ]
  },
  {
   "cell_type": "code",
   "execution_count": 11,
   "metadata": {},
   "outputs": [
    {
     "data": {
      "image/png": "[encoded data removed]",
      "text/plain": [
       "<Figure size 432x288 with 1 Axes>"
      ]
     },
     "metadata": {
      "needs_background": "light"
     },
     "output_type": "display_data"
    },
    {
     "data": {
      "image/png": "[encoded data removed]",
      "text/plain": [
       "<Figure size 432x288 with 1 Axes>"
      ]
     },
     "metadata": {
      "needs_background": "light"
     },
     "output_type": "display_data"
    }
   ],
   "source": [
    "%matplotlib inline\n",
    "\n",
    "import matplotlib.pyplot as plt\n",
    "\n",
    "# Plot training & validation accuracy values\n",
    "plt.plot(history.history['acc'])\n",
    "plt.plot(history.history['val_acc'])\n",
    "plt.title('Model accuracy')\n",
    "plt.ylabel('Accuracy')\n",
    "plt.xlabel('Epoch')\n",
    "plt.legend(['Train', 'Test'], loc='upper left')\n",
    "plt.show()\n",
    "\n",
    "# Plot training & validation loss values\n",
    "plt.plot(history.history['loss'])\n",
    "plt.plot(history.history['val_loss'])\n",
    "plt.title('Model loss')\n",
    "plt.ylabel('Loss')\n",
    "plt.xlabel('Epoch')\n",
    "plt.legend(['Train', 'Test'], loc='upper left')\n",
    "plt.show()"
   ]
  }
 ],
 "metadata": {
  "kernelspec": {
   "display_name": "Python 3",
   "language": "python",
   "name": "python3"
  },
  "language_info": {
   "codemirror_mode": {
    "name": "ipython",
    "version": 3
   },
   "file_extension": ".py",
   "mimetype": "text/x-python",
   "name": "python",
   "nbconvert_exporter": "python",
   "pygments_lexer": "ipython3",
   "version": "3.7.4"
  }
 },
 "nbformat": 4,
 "nbformat_minor": 2
}
