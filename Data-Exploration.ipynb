{
 "cells": [
  {
   "cell_type": "code",
   "execution_count": 1,
   "metadata": {},
   "outputs": [],
   "source": [
    "import tensorflow as tf\n",
    "import numpy as np"
   ]
  },
  {
   "cell_type": "code",
   "execution_count": 2,
   "metadata": {},
   "outputs": [
    {
     "data": {
      "text/plain": [
       "[name: \"/device:CPU:0\"\n",
       " device_type: \"CPU\"\n",
       " memory_limit: 268435456\n",
       " locality {\n",
       " }\n",
       " incarnation: 10093033899519972833, name: \"/device:XLA_CPU:0\"\n",
       " device_type: \"XLA_CPU\"\n",
       " memory_limit: 17179869184\n",
       " locality {\n",
       " }\n",
       " incarnation: 15577238214129514336\n",
       " physical_device_desc: \"device: XLA_CPU device\", name: \"/device:GPU:0\"\n",
       " device_type: \"GPU\"\n",
       " memory_limit: 1872625664\n",
       " locality {\n",
       "   bus_id: 1\n",
       "   links {\n",
       "   }\n",
       " }\n",
       " incarnation: 3084486855187668924\n",
       " physical_device_desc: \"device: 0, name: GeForce GTX 1060 3GB, pci bus id: 0000:01:00.0, compute capability: 6.1\", name: \"/device:XLA_GPU:0\"\n",
       " device_type: \"XLA_GPU\"\n",
       " memory_limit: 17179869184\n",
       " locality {\n",
       " }\n",
       " incarnation: 1210902605573685618\n",
       " physical_device_desc: \"device: XLA_GPU device\"]"
      ]
     },
     "execution_count": 2,
     "metadata": {},
     "output_type": "execute_result"
    }
   ],
   "source": [
    "from tensorflow.python.client import device_lib\n",
    "device_lib.list_local_devices()"
   ]
  },
  {
   "cell_type": "code",
   "execution_count": 3,
   "metadata": {},
   "outputs": [],
   "source": [
    "def unpickle(file):\n",
    "    import pickle\n",
    "    with open(file, 'rb') as fo:\n",
    "        dict = pickle.load(fo, encoding='bytes')\n",
    "    return dict"
   ]
  },
  {
   "cell_type": "code",
   "execution_count": 4,
   "metadata": {},
   "outputs": [],
   "source": [
    "def load_all_cifar_data():\n",
    "    folder_path = 'cifar-10-batches-py'\n",
    "    data = []\n",
    "    labels = []\n",
    "    for i in range(1,6):\n",
    "        batch = unpickle(f'{folder_path}/data_batch_{i}')\n",
    "        data.append(batch[b'data'])\n",
    "        labels.append(batch[b'labels'])\n",
    "    \n",
    "    return np.concatenate(tuple(data), axis=0), np.concatenate(tuple(labels), axis=0)"
   ]
  },
  {
   "cell_type": "code",
   "execution_count": 5,
   "metadata": {},
   "outputs": [],
   "source": [
    "data, labels = load_all_cifar_data()"
   ]
  },
  {
   "cell_type": "code",
   "execution_count": 6,
   "metadata": {},
   "outputs": [
    {
     "name": "stdout",
     "output_type": "stream",
     "text": [
      "(50000, 3072)\n",
      "(50000, 10)\n"
     ]
    }
   ],
   "source": [
    "a = np.zeros((50000,10))\n",
    "a[np.arange(50000), labels] = 1\n",
    "\n",
    "labels = a\n",
    "print(data.shape)\n",
    "print(labels.shape)"
   ]
  },
  {
   "cell_type": "code",
   "execution_count": 7,
   "metadata": {},
   "outputs": [],
   "source": [
    "data = np.divide(data, 255)"
   ]
  },
  {
   "cell_type": "markdown",
   "metadata": {},
   "source": [
    "# Simple NN"
   ]
  },
  {
   "cell_type": "code",
   "execution_count": 8,
   "metadata": {},
   "outputs": [
    {
     "name": "stderr",
     "output_type": "stream",
     "text": [
      "WARNING: Logging before flag parsing goes to stderr.\n",
      "W0925 23:36:22.968997 140056100120384 deprecation.py:506] From /home/nagianek/anaconda3/envs/ml-sandbox/lib/python3.7/site-packages/tensorflow/python/ops/init_ops.py:1251: calling VarianceScaling.__init__ (from tensorflow.python.ops.init_ops) with dtype is deprecated and will be removed in a future version.\n",
      "Instructions for updating:\n",
      "Call initializer instance with the dtype argument instead of passing it to the constructor\n"
     ]
    }
   ],
   "source": [
    "model = tf.keras.Sequential()\n",
    "from tensorflow.keras.layers import Dense\n",
    "model.add(Dense(units=1024, activation='relu', input_dim=3072))\n",
    "model.add(Dense(units=512, activation='relu'))\n",
    "model.add(Dense(units=256, activation='relu'))\n",
    "model.add(Dense(units=10, activation='softmax'))"
   ]
  },
  {
   "cell_type": "code",
   "execution_count": 9,
   "metadata": {},
   "outputs": [
    {
     "name": "stdout",
     "output_type": "stream",
     "text": [
      "Model: \"sequential\"\n",
      "_________________________________________________________________\n",
      "Layer (type)                 Output Shape              Param #   \n",
      "=================================================================\n",
      "dense (Dense)                (None, 1024)              3146752   \n",
      "_________________________________________________________________\n",
      "dense_1 (Dense)              (None, 512)               524800    \n",
      "_________________________________________________________________\n",
      "dense_2 (Dense)              (None, 256)               131328    \n",
      "_________________________________________________________________\n",
      "dense_3 (Dense)              (None, 10)                2570      \n",
      "=================================================================\n",
      "Total params: 3,805,450\n",
      "Trainable params: 3,805,450\n",
      "Non-trainable params: 0\n",
      "_________________________________________________________________\n"
     ]
    }
   ],
   "source": [
    "from tensorflow.keras.optimizers import Adam\n",
    "\n",
    "model.compile(loss='categorical_crossentropy',\n",
    "              optimizer=Adam(lr=0.001),\n",
    "              metrics=['accuracy'])\n",
    "model.summary()"
   ]
  },
  {
   "cell_type": "code",
   "execution_count": 10,
   "metadata": {},
   "outputs": [
    {
     "name": "stdout",
     "output_type": "stream",
     "text": [
      "Train on 40000 samples, validate on 10000 samples\n",
      "Epoch 1/10\n",
      "40000/40000 [==============================] - 3s 81us/sample - loss: 1.9046 - acc: 0.3128 - val_loss: 1.7694 - val_acc: 0.3586\n",
      "Epoch 2/10\n",
      "40000/40000 [==============================] - 3s 72us/sample - loss: 1.6849 - acc: 0.3967 - val_loss: 1.6720 - val_acc: 0.4024\n",
      "Epoch 3/10\n",
      "40000/40000 [==============================] - 3s 68us/sample - loss: 1.6063 - acc: 0.4218 - val_loss: 1.6030 - val_acc: 0.4294\n",
      "Epoch 4/10\n",
      "40000/40000 [==============================] - 3s 71us/sample - loss: 1.5439 - acc: 0.4444 - val_loss: 1.5803 - val_acc: 0.4338\n",
      "Epoch 5/10\n",
      "40000/40000 [==============================] - 3s 72us/sample - loss: 1.4903 - acc: 0.4637 - val_loss: 1.5181 - val_acc: 0.4542\n",
      "Epoch 6/10\n",
      "40000/40000 [==============================] - 3s 77us/sample - loss: 1.4584 - acc: 0.4753 - val_loss: 1.5392 - val_acc: 0.4517\n",
      "Epoch 7/10\n",
      "40000/40000 [==============================] - 3s 71us/sample - loss: 1.4211 - acc: 0.4907 - val_loss: 1.4952 - val_acc: 0.4707\n",
      "Epoch 8/10\n",
      "40000/40000 [==============================] - 3s 72us/sample - loss: 1.3921 - acc: 0.5007 - val_loss: 1.4734 - val_acc: 0.4735\n",
      "Epoch 9/10\n",
      "40000/40000 [==============================] - 3s 74us/sample - loss: 1.3611 - acc: 0.5133 - val_loss: 1.5504 - val_acc: 0.4494\n",
      "Epoch 10/10\n",
      "40000/40000 [==============================] - 3s 70us/sample - loss: 1.3261 - acc: 0.5221 - val_loss: 1.4636 - val_acc: 0.4767\n"
     ]
    }
   ],
   "source": [
    "history = model.fit(data, labels, validation_split=0.20, epochs=10, batch_size=64)"
   ]
  },
  {
   "cell_type": "code",
   "execution_count": 11,
   "metadata": {},
   "outputs": [
    {
     "data": {
      "image/png": "[encoded data removed]",
      "text/plain": [
       "<Figure size 432x288 with 1 Axes>"
      ]
     },
     "metadata": {
      "needs_background": "light"
     },
     "output_type": "display_data"
    },
    {
     "data": {
      "image/png": "[encoded data removed]",
      "text/plain": [
       "<Figure size 432x288 with 1 Axes>"
      ]
     },
     "metadata": {
      "needs_background": "light"
     },
     "output_type": "display_data"
    }
   ],
   "source": [
    "%matplotlib inline\n",
    "\n",
    "import matplotlib.pyplot as plt\n",
    "\n",
    "# Plot training & validation accuracy values\n",
    "plt.plot(history.history['acc'])\n",
    "plt.plot(history.history['val_acc'])\n",
    "plt.title('Model accuracy')\n",
    "plt.ylabel('Accuracy')\n",
    "plt.xlabel('Epoch')\n",
    "plt.legend(['Train', 'Test'], loc='upper left')\n",
    "plt.show()\n",
    "\n",
    "# Plot training & validation loss values\n",
    "plt.plot(history.history['loss'])\n",
    "plt.plot(history.history['val_loss'])\n",
    "plt.title('Model loss')\n",
    "plt.ylabel('Loss')\n",
    "plt.xlabel('Epoch')\n",
    "plt.legend(['Train', 'Test'], loc='upper left')\n",
    "plt.show()"
   ]
  },
  {
   "cell_type": "code",
   "execution_count": 12,
   "metadata": {},
   "outputs": [],
   "source": [
    "# model.save('simple-nn-100-epochs.h5')"
   ]
  },
  {
   "cell_type": "markdown",
   "metadata": {},
   "source": [
    "# CNN"
   ]
  },
  {
   "cell_type": "code",
   "execution_count": 13,
   "metadata": {},
   "outputs": [],
   "source": [
    "def convert_data_for_cnn(data):\n",
    "    num_entries_in_channel = int(data.shape[1] / 3)\n",
    "    data_4d = np.zeros((50000,3,32,32))\n",
    "    for i in range(50000):\n",
    "        x = data[i]\n",
    "        r_1d = x[0:num_entries_in_channel]\n",
    "        g_1d = x[num_entries_in_channel:2*num_entries_in_channel]\n",
    "        b_1d = x[num_entries_in_channel*2:]\n",
    "\n",
    "        r_2d = np.reshape(r_1d, (32,32))\n",
    "        g_2d = np.reshape(g_1d, (32,32))\n",
    "        b_2d = np.reshape(b_1d, (32,32))\n",
    "        \n",
    "        image_3d = np.zeros((3,32,32))\n",
    "        image_3d[0] = r_2d\n",
    "        image_3d[1] = g_2d\n",
    "        image_3d[2] = b_2d\n",
    "                \n",
    "        data_4d[i] = image_3d\n",
    "    print(data_4d.shape)\n",
    "    data_4d = np.swapaxes(data_4d,1,3)\n",
    "    data_4d = np.swapaxes(data_4d, 1,2)\n",
    "    return data_4d"
   ]
  },
  {
   "cell_type": "code",
   "execution_count": 27,
   "metadata": {},
   "outputs": [],
   "source": [
    "from tensorflow.keras.layers import Dense, Dropout, Activation, Flatten\n",
    "from tensorflow.keras.layers import Conv2D, MaxPooling2D\n",
    "from tensorflow.keras.models import Sequential\n",
    "\n",
    "model = Sequential()\n",
    "model.add(Conv2D(32, (3, 3), padding='same',\n",
    "                 input_shape=(32,32,3)))\n",
    "model.add(Activation('relu'))\n",
    "model.add(Conv2D(32, (3, 3)))\n",
    "model.add(Activation('relu'))\n",
    "model.add(MaxPooling2D(pool_size=(2, 2)))\n",
    "model.add(Dropout(0.25))\n",
    "\n",
    "model.add(Conv2D(64, (3, 3), padding='same'))\n",
    "model.add(Activation('relu'))\n",
    "model.add(Conv2D(64, (3, 3)))\n",
    "model.add(Activation('relu'))\n",
    "model.add(MaxPooling2D(pool_size=(2, 2)))\n",
    "model.add(Dropout(0.25))\n",
    "\n",
    "model.add(Flatten())\n",
    "model.add(Dense(512))\n",
    "model.add(Activation('relu'))\n",
    "model.add(Dropout(0.5))\n",
    "model.add(Dense(10))\n",
    "model.add(Activation('softmax'))"
   ]
  },
  {
   "cell_type": "code",
   "execution_count": 28,
   "metadata": {},
   "outputs": [
    {
     "name": "stdout",
     "output_type": "stream",
     "text": [
      "Model: \"sequential_5\"\n",
      "_________________________________________________________________\n",
      "Layer (type)                 Output Shape              Param #   \n",
      "=================================================================\n",
      "conv2d_15 (Conv2D)           (None, 32, 32, 32)        896       \n",
      "_________________________________________________________________\n",
      "activation_26 (Activation)   (None, 32, 32, 32)        0         \n",
      "_________________________________________________________________\n",
      "conv2d_16 (Conv2D)           (None, 30, 30, 32)        9248      \n",
      "_________________________________________________________________\n",
      "activation_27 (Activation)   (None, 30, 30, 32)        0         \n",
      "_________________________________________________________________\n",
      "max_pooling2d_6 (MaxPooling2 (None, 15, 15, 32)        0         \n",
      "_________________________________________________________________\n",
      "dropout_15 (Dropout)         (None, 15, 15, 32)        0         \n",
      "_________________________________________________________________\n",
      "conv2d_17 (Conv2D)           (None, 15, 15, 64)        18496     \n",
      "_________________________________________________________________\n",
      "activation_28 (Activation)   (None, 15, 15, 64)        0         \n",
      "_________________________________________________________________\n",
      "conv2d_18 (Conv2D)           (None, 13, 13, 64)        36928     \n",
      "_________________________________________________________________\n",
      "activation_29 (Activation)   (None, 13, 13, 64)        0         \n",
      "_________________________________________________________________\n",
      "max_pooling2d_7 (MaxPooling2 (None, 6, 6, 64)          0         \n",
      "_________________________________________________________________\n",
      "dropout_16 (Dropout)         (None, 6, 6, 64)          0         \n",
      "_________________________________________________________________\n",
      "flatten_4 (Flatten)          (None, 2304)              0         \n",
      "_________________________________________________________________\n",
      "dense_12 (Dense)             (None, 512)               1180160   \n",
      "_________________________________________________________________\n",
      "activation_30 (Activation)   (None, 512)               0         \n",
      "_________________________________________________________________\n",
      "dropout_17 (Dropout)         (None, 512)               0         \n",
      "_________________________________________________________________\n",
      "dense_13 (Dense)             (None, 10)                5130      \n",
      "_________________________________________________________________\n",
      "activation_31 (Activation)   (None, 10)                0         \n",
      "=================================================================\n",
      "Total params: 1,250,858\n",
      "Trainable params: 1,250,858\n",
      "Non-trainable params: 0\n",
      "_________________________________________________________________\n"
     ]
    }
   ],
   "source": [
    "from tensorflow.keras.optimizers import RMSprop\n",
    "\n",
    "# initiate RMSprop optimizer\n",
    "opt = RMSprop(learning_rate=0.001, decay=1e-6)\n",
    "\n",
    "# Let's train the model using RMSprop\n",
    "model.compile(loss='categorical_crossentropy',\n",
    "              optimizer=opt,\n",
    "              metrics=['accuracy'])\n",
    "model.summary()"
   ]
  },
  {
   "cell_type": "code",
   "execution_count": 29,
   "metadata": {},
   "outputs": [
    {
     "name": "stdout",
     "output_type": "stream",
     "text": [
      "(50000, 3, 32, 32)\n",
      "Train on 40000 samples, validate on 10000 samples\n",
      "Epoch 1/15\n",
      "40000/40000 [==============================] - 9s 216us/sample - loss: 1.6856 - acc: 0.3912 - val_loss: 1.5828 - val_acc: 0.4421\n",
      "Epoch 2/15\n",
      "40000/40000 [==============================] - 8s 210us/sample - loss: 1.2557 - acc: 0.5560 - val_loss: 1.0496 - val_acc: 0.6347\n",
      "Epoch 3/15\n",
      "40000/40000 [==============================] - 8s 201us/sample - loss: 1.0722 - acc: 0.6244 - val_loss: 0.9986 - val_acc: 0.6467\n",
      "Epoch 4/15\n",
      "40000/40000 [==============================] - 8s 202us/sample - loss: 0.9639 - acc: 0.6663 - val_loss: 0.9745 - val_acc: 0.6661\n",
      "Epoch 5/15\n",
      "40000/40000 [==============================] - 8s 203us/sample - loss: 0.8897 - acc: 0.6904 - val_loss: 0.7867 - val_acc: 0.7274\n",
      "Epoch 6/15\n",
      "40000/40000 [==============================] - 8s 208us/sample - loss: 0.8394 - acc: 0.7115 - val_loss: 0.7960 - val_acc: 0.7250\n",
      "Epoch 7/15\n",
      "40000/40000 [==============================] - 8s 209us/sample - loss: 0.8008 - acc: 0.7227 - val_loss: 0.7340 - val_acc: 0.7450\n",
      "Epoch 8/15\n",
      "40000/40000 [==============================] - 8s 205us/sample - loss: 0.7732 - acc: 0.7345 - val_loss: 0.7986 - val_acc: 0.7306\n",
      "Epoch 9/15\n",
      "40000/40000 [==============================] - 8s 204us/sample - loss: 0.7524 - acc: 0.7441 - val_loss: 0.7329 - val_acc: 0.7490\n",
      "Epoch 10/15\n",
      "40000/40000 [==============================] - 8s 199us/sample - loss: 0.7449 - acc: 0.7458 - val_loss: 0.8498 - val_acc: 0.7150\n",
      "Epoch 11/15\n",
      "40000/40000 [==============================] - 8s 200us/sample - loss: 0.7303 - acc: 0.7538 - val_loss: 0.8496 - val_acc: 0.7340\n",
      "Epoch 12/15\n",
      "40000/40000 [==============================] - 9s 218us/sample - loss: 0.7324 - acc: 0.7547 - val_loss: 0.7836 - val_acc: 0.7394\n",
      "Epoch 13/15\n",
      "40000/40000 [==============================] - 9s 232us/sample - loss: 0.7351 - acc: 0.7552 - val_loss: 0.7636 - val_acc: 0.7474\n",
      "Epoch 14/15\n",
      "40000/40000 [==============================] - 9s 229us/sample - loss: 0.7365 - acc: 0.7552 - val_loss: 0.7202 - val_acc: 0.7559\n",
      "Epoch 15/15\n",
      "40000/40000 [==============================] - 8s 199us/sample - loss: 0.7418 - acc: 0.7566 - val_loss: 0.7634 - val_acc: 0.7560\n"
     ]
    }
   ],
   "source": [
    "history = model.fit(convert_data_for_cnn(data), labels, validation_split=0.2, epochs=15, batch_size=64, shuffle=True)"
   ]
  },
  {
   "cell_type": "code",
   "execution_count": 17,
   "metadata": {},
   "outputs": [],
   "source": [
    "# model.save('simple-cnn-model-100-epoch.h5')"
   ]
  },
  {
   "cell_type": "markdown",
   "metadata": {},
   "source": [
    "# CNN WITH SEPERABLE CONVOLUTIONS"
   ]
  },
  {
   "cell_type": "code",
   "execution_count": 24,
   "metadata": {},
   "outputs": [],
   "source": [
    "from tensorflow.keras.layers import Dense, Dropout, Activation, Flatten\n",
    "from tensorflow.keras.layers import Conv2D, MaxPooling2D, DepthwiseConv2D, BatchNormalization\n",
    "from tensorflow.keras.models import Sequential\n",
    "\n",
    "model = Sequential()\n",
    "\n",
    "model.add(Conv2D(32, (3, 3), padding='same', input_shape=(32,32,3)))\n",
    "model.add(Activation('relu'))\n",
    "model.add(BatchNormalization())\n",
    "model.add(Dropout(0.25))\n",
    "\n",
    "model.add(DepthwiseConv2D(kernel_size=(3,3), strides=(2,2), padding=\"same\"))\n",
    "model.add(BatchNormalization())\n",
    "model.add(Activation('relu'))\n",
    "\n",
    "model.add(DepthwiseConv2D(kernel_size=(3,3), strides=(2,2), padding=\"same\"))\n",
    "model.add(BatchNormalization())\n",
    "model.add(Activation('relu'))\n",
    "model.add(Conv2D(16, kernel_size=(1,1)))\n",
    "model.add(BatchNormalization())\n",
    "model.add(Activation('relu'))\n",
    "\n",
    "model.add(DepthwiseConv2D(kernel_size=(3,3), strides=(2,2), padding=\"same\"))\n",
    "model.add(BatchNormalization())\n",
    "model.add(Activation('relu'))\n",
    "model.add(Conv2D(32, kernel_size=(1,1)))\n",
    "model.add(BatchNormalization())\n",
    "model.add(Activation('relu'))\n",
    "\n",
    "model.add(Flatten())\n",
    "model.add(Dense(512))\n",
    "model.add(Activation('relu'))\n",
    "model.add(Dropout(0.5))\n",
    "model.add(Dense(10))\n",
    "model.add(Activation('softmax'))"
   ]
  },
  {
   "cell_type": "code",
   "execution_count": 25,
   "metadata": {},
   "outputs": [
    {
     "name": "stdout",
     "output_type": "stream",
     "text": [
      "Model: \"sequential_4\"\n",
      "_________________________________________________________________\n",
      "Layer (type)                 Output Shape              Param #   \n",
      "=================================================================\n",
      "conv2d_12 (Conv2D)           (None, 32, 32, 32)        896       \n",
      "_________________________________________________________________\n",
      "activation_18 (Activation)   (None, 32, 32, 32)        0         \n",
      "_________________________________________________________________\n",
      "batch_normalization_8 (Batch (None, 32, 32, 32)        128       \n",
      "_________________________________________________________________\n",
      "dropout_13 (Dropout)         (None, 32, 32, 32)        0         \n",
      "_________________________________________________________________\n",
      "depthwise_conv2d (DepthwiseC (None, 16, 16, 32)        320       \n",
      "_________________________________________________________________\n",
      "batch_normalization_9 (Batch (None, 16, 16, 32)        128       \n",
      "_________________________________________________________________\n",
      "activation_19 (Activation)   (None, 16, 16, 32)        0         \n",
      "_________________________________________________________________\n",
      "depthwise_conv2d_1 (Depthwis (None, 8, 8, 32)          320       \n",
      "_________________________________________________________________\n",
      "batch_normalization_10 (Batc (None, 8, 8, 32)          128       \n",
      "_________________________________________________________________\n",
      "activation_20 (Activation)   (None, 8, 8, 32)          0         \n",
      "_________________________________________________________________\n",
      "conv2d_13 (Conv2D)           (None, 8, 8, 16)          528       \n",
      "_________________________________________________________________\n",
      "batch_normalization_11 (Batc (None, 8, 8, 16)          64        \n",
      "_________________________________________________________________\n",
      "activation_21 (Activation)   (None, 8, 8, 16)          0         \n",
      "_________________________________________________________________\n",
      "depthwise_conv2d_2 (Depthwis (None, 4, 4, 16)          160       \n",
      "_________________________________________________________________\n",
      "batch_normalization_12 (Batc (None, 4, 4, 16)          64        \n",
      "_________________________________________________________________\n",
      "activation_22 (Activation)   (None, 4, 4, 16)          0         \n",
      "_________________________________________________________________\n",
      "conv2d_14 (Conv2D)           (None, 4, 4, 32)          544       \n",
      "_________________________________________________________________\n",
      "batch_normalization_13 (Batc (None, 4, 4, 32)          128       \n",
      "_________________________________________________________________\n",
      "activation_23 (Activation)   (None, 4, 4, 32)          0         \n",
      "_________________________________________________________________\n",
      "flatten_3 (Flatten)          (None, 512)               0         \n",
      "_________________________________________________________________\n",
      "dense_10 (Dense)             (None, 512)               262656    \n",
      "_________________________________________________________________\n",
      "activation_24 (Activation)   (None, 512)               0         \n",
      "_________________________________________________________________\n",
      "dropout_14 (Dropout)         (None, 512)               0         \n",
      "_________________________________________________________________\n",
      "dense_11 (Dense)             (None, 10)                5130      \n",
      "_________________________________________________________________\n",
      "activation_25 (Activation)   (None, 10)                0         \n",
      "=================================================================\n",
      "Total params: 271,194\n",
      "Trainable params: 270,874\n",
      "Non-trainable params: 320\n",
      "_________________________________________________________________\n"
     ]
    }
   ],
   "source": [
    "from tensorflow.keras.optimizers import RMSprop\n",
    "\n",
    "# initiate RMSprop optimizer\n",
    "opt = RMSprop(learning_rate=0.001, decay=1e-6)\n",
    "\n",
    "# Let's train the model using RMSprop\n",
    "model.compile(loss='categorical_crossentropy',\n",
    "              optimizer=opt,\n",
    "              metrics=['accuracy'])\n",
    "model.summary()"
   ]
  },
  {
   "cell_type": "code",
   "execution_count": 26,
   "metadata": {},
   "outputs": [
    {
     "name": "stdout",
     "output_type": "stream",
     "text": [
      "(50000, 3, 32, 32)\n",
      "Train on 40000 samples, validate on 10000 samples\n",
      "Epoch 1/15\n",
      "40000/40000 [==============================] - 10s 241us/sample - loss: 1.7604 - acc: 0.3531 - val_loss: 1.6760 - val_acc: 0.3864\n",
      "Epoch 2/15\n",
      "40000/40000 [==============================] - 10s 240us/sample - loss: 1.4378 - acc: 0.4751 - val_loss: 1.3790 - val_acc: 0.4947\n",
      "Epoch 3/15\n",
      "40000/40000 [==============================] - 9s 223us/sample - loss: 1.2946 - acc: 0.5340 - val_loss: 1.2485 - val_acc: 0.5551\n",
      "Epoch 4/15\n",
      "40000/40000 [==============================] - 9s 227us/sample - loss: 1.2038 - acc: 0.5702 - val_loss: 1.1674 - val_acc: 0.5835\n",
      "Epoch 5/15\n",
      "40000/40000 [==============================] - 9s 225us/sample - loss: 1.1440 - acc: 0.5915 - val_loss: 1.1186 - val_acc: 0.6060\n",
      "Epoch 6/15\n",
      "40000/40000 [==============================] - 9s 221us/sample - loss: 1.0956 - acc: 0.6085 - val_loss: 1.0690 - val_acc: 0.6197\n",
      "Epoch 7/15\n",
      "40000/40000 [==============================] - 9s 224us/sample - loss: 1.0521 - acc: 0.6254 - val_loss: 1.0747 - val_acc: 0.6133\n",
      "Epoch 8/15\n",
      "40000/40000 [==============================] - 9s 223us/sample - loss: 1.0243 - acc: 0.6378 - val_loss: 1.0853 - val_acc: 0.6197\n",
      "Epoch 9/15\n",
      "40000/40000 [==============================] - 9s 219us/sample - loss: 1.0051 - acc: 0.6456 - val_loss: 1.0929 - val_acc: 0.6214\n",
      "Epoch 10/15\n",
      "40000/40000 [==============================] - 9s 226us/sample - loss: 0.9816 - acc: 0.6572 - val_loss: 1.1064 - val_acc: 0.6224\n",
      "Epoch 11/15\n",
      "40000/40000 [==============================] - 9s 223us/sample - loss: 0.9669 - acc: 0.6596 - val_loss: 1.2146 - val_acc: 0.5950\n",
      "Epoch 12/15\n",
      "40000/40000 [==============================] - 9s 221us/sample - loss: 0.9549 - acc: 0.6680 - val_loss: 1.0057 - val_acc: 0.6583\n",
      "Epoch 13/15\n",
      "40000/40000 [==============================] - 9s 220us/sample - loss: 0.9475 - acc: 0.6672 - val_loss: 1.0841 - val_acc: 0.6292\n",
      "Epoch 14/15\n",
      "40000/40000 [==============================] - 9s 223us/sample - loss: 0.9450 - acc: 0.6710 - val_loss: 1.1385 - val_acc: 0.6221\n",
      "Epoch 15/15\n",
      "40000/40000 [==============================] - 8s 211us/sample - loss: 0.9384 - acc: 0.6745 - val_loss: 1.0698 - val_acc: 0.6457\n"
     ]
    }
   ],
   "source": [
    "history = model.fit(convert_data_for_cnn(data), labels, validation_split=0.2, epochs=15, batch_size=64, shuffle=True)"
   ]
  },
  {
   "cell_type": "code",
   "execution_count": null,
   "metadata": {},
   "outputs": [],
   "source": []
  }
 ],
 "metadata": {
  "kernelspec": {
   "display_name": "Python 3",
   "language": "python",
   "name": "python3"
  },
  "language_info": {
   "codemirror_mode": {
    "name": "ipython",
    "version": 3
   },
   "file_extension": ".py",
   "mimetype": "text/x-python",
   "name": "python",
   "nbconvert_exporter": "python",
   "pygments_lexer": "ipython3",
   "version": "3.7.4"
  }
 },
 "nbformat": 4,
 "nbformat_minor": 2
}
